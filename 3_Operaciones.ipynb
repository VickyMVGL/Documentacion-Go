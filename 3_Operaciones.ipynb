{
 "cells": [
  {
   "cell_type": "markdown",
   "metadata": {},
   "source": [
    "# Operaciones"
   ]
  },
  {
   "cell_type": "markdown",
   "metadata": {},
   "source": [
    "# Operadores Aritméticos\n",
    "\n",
    "Los operadores aritméticos en Go se utilizan para realizar operaciones matemáticas básicas."
   ]
  },
  {
   "cell_type": "code",
   "execution_count": null,
   "metadata": {
    "vscode": {
     "languageId": "go"
    }
   },
   "outputs": [],
   "source": [
    "package main\n",
    "import \"fmt\"\n",
    "\n",
    "func main() {\n",
    "    a := 10\n",
    "    b := 3\n",
    "    fmt.Println(\"Suma:\", a+b)      // 13\n",
    "    fmt.Println(\"Resta:\", a-b)     // 7\n",
    "    fmt.Println(\"Multiplicación:\", a*b) // 30\n",
    "    fmt.Println(\"División:\", a/b)  // 3\n",
    "    fmt.Println(\"Módulo:\", a%b)    // 1\n",
    "}"
   ]
  },
  {
   "cell_type": "markdown",
   "metadata": {},
   "source": [
    "# Operadores de Asignación\n",
    "\n",
    "Los operadores de asignación en Go se utilizan para asignar valores a variables. El operador = asigna un valor directamente, mientras que los operadores de asignación compuesta realizan una operación y luego asignan el resultado."
   ]
  },
  {
   "cell_type": "markdown",
   "metadata": {},
   "source": [
    "=\tAsignación simple\ta = 5\n",
    "\n",
    "+=\tAsignación con suma\ta += b\n",
    "\n",
    "-=\tAsignación con resta\ta -= b\n",
    "\n",
    "*=\tAsignación con multiplicación\ta *= b\n",
    "\n",
    "/=\tAsignación con división\ta /= b\n",
    "\n",
    "%=\tAsignación con módulo\ta %= b"
   ]
  },
  {
   "cell_type": "code",
   "execution_count": null,
   "metadata": {
    "vscode": {
     "languageId": "go"
    }
   },
   "outputs": [],
   "source": [
    "package main\n",
    "import \"fmt\"\n",
    "\n",
    "func main() {\n",
    "    a := 5\n",
    "    a += 3  // a = a + 3 -> 8\n",
    "    fmt.Println(a)  // 8\n",
    "}"
   ]
  },
  {
   "cell_type": "markdown",
   "metadata": {},
   "source": [
    "# Operadores de Comparación\n",
    "\n",
    "Estos operadores comparan dos valores y devuelven un resultado booleano (true o false)."
   ]
  },
  {
   "cell_type": "markdown",
   "metadata": {},
   "source": [
    ". == Igual a\t->         a == b\n",
    "\n",
    ". != Diferente de    ->    != b\n",
    "\n",
    ". <\tMenor que       ->     a < b\n",
    "\n",
    ". >\tMayor que   \t->     a > b\n",
    "\n",
    ". <= Menor o igual que\t-> a <= b\n",
    "\n",
    ". >= Mayor o igual que \t-> a >= b\n"
   ]
  },
  {
   "cell_type": "code",
   "execution_count": null,
   "metadata": {
    "vscode": {
     "languageId": "go"
    }
   },
   "outputs": [],
   "source": [
    "package main\n",
    "import \"fmt\"\n",
    "\n",
    "func main() {\n",
    "    a, b := 5, 8\n",
    "    fmt.Println(a == b) // false\n",
    "    fmt.Println(a < b)  // true\n",
    "}"
   ]
  },
  {
   "cell_type": "markdown",
   "metadata": {},
   "source": [
    "# Operadores Lógicos\n",
    "\n",
    "Los operadores lógicos se utilizan para combinar expresiones booleanas."
   ]
  },
  {
   "cell_type": "markdown",
   "metadata": {},
   "source": [
    "&&\t--AND lógico--\ta && b\n",
    "\n",
    "||  --OR  lógico--  a || b\n",
    "\n",
    "!\t--NOT lógico--\t!a"
   ]
  },
  {
   "cell_type": "code",
   "execution_count": null,
   "metadata": {
    "vscode": {
     "languageId": "go"
    }
   },
   "outputs": [],
   "source": [
    "package main\n",
    "import \"fmt\"\n",
    "\n",
    "func main() {\n",
    "    a, b := true, false\n",
    "    fmt.Println(a && b) // false\n",
    "    fmt.Println(a || b) // true\n",
    "    fmt.Println(!a)     // false\n",
    "}"
   ]
  },
  {
   "cell_type": "markdown",
   "metadata": {},
   "source": [
    "# Operadores de Bits\n",
    "\n",
    "Go proporciona operadores de bits que funcionan a nivel de bit. Estos son útiles para operaciones de bajo nivel."
   ]
  },
  {
   "cell_type": "markdown",
   "metadata": {},
   "source": [
    ". &\t--AND a nivel de bits--\ta & b\n",
    "\n",
    ". |\t--OR a nivel de bits-- a | b\n",
    "\n",
    ". ^\t--XOR a nivel de bits--\ta ^ b\n",
    "\n",
    ". << --Desplazamiento a la izquierda--\ta << 1\n",
    "\n",
    ". >> --Desplazamiento a la derecha--\ta >> 1"
   ]
  },
  {
   "cell_type": "code",
   "execution_count": null,
   "metadata": {
    "vscode": {
     "languageId": "go"
    }
   },
   "outputs": [],
   "source": [
    "package main\n",
    "import \"fmt\"\n",
    "\n",
    "func main() {\n",
    "    a := 5       // 0101 en binario\n",
    "    b := 3       // 0011 en binario\n",
    "    fmt.Println(a & b)  // 1  (0001)\n",
    "    fmt.Println(a | b)  // 7  (0111)\n",
    "    fmt.Println(a ^ b)  // 6  (0110)\n",
    "    fmt.Println(a << 1) // 10 (1010)\n",
    "    fmt.Println(a >> 1) // 2  (0010)\n",
    "}"
   ]
  },
  {
   "cell_type": "markdown",
   "metadata": {},
   "source": [
    "# Operador de Dirección\n",
    "\n",
    "El operador de dirección (&) devuelve la dirección de memoria de su operando."
   ]
  },
  {
   "cell_type": "code",
   "execution_count": null,
   "metadata": {
    "vscode": {
     "languageId": "go"
    }
   },
   "outputs": [],
   "source": [
    "package main\n",
    "import \"fmt\"\n",
    "\n",
    "func main() {\n",
    "    a := 10\n",
    "    fmt.Println(&a)  // Muestra la dirección de memoria de \"a\"\n",
    "}"
   ]
  },
  {
   "cell_type": "markdown",
   "metadata": {},
   "source": [
    "# Operador de Desreferencia\n",
    "\n",
    "Go permite acceder al valor de una variable almacenada en una dirección de memoria usando el operador de desreferencia (*)."
   ]
  },
  {
   "cell_type": "code",
   "execution_count": null,
   "metadata": {
    "vscode": {
     "languageId": "go"
    }
   },
   "outputs": [],
   "source": [
    "package main\n",
    "import \"fmt\"\n",
    "\n",
    "func main() {\n",
    "    var a int = 10\n",
    "    var p *int = &a\n",
    "    fmt.Println(*p)  // Imprime el valor de \"a\" a través del puntero p\n",
    "}"
   ]
  }
 ],
 "metadata": {
  "language_info": {
   "name": "python"
  }
 },
 "nbformat": 4,
 "nbformat_minor": 2
}
