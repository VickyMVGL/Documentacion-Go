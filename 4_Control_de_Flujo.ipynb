{
 "cells": [
  {
   "cell_type": "markdown",
   "metadata": {},
   "source": [
    "# Control de Flujo\n",
    "\n",
    "En Go, el control de flujo permite estructurar y dirigir la ejecución del programa basándose en condiciones y repetición de bloques de código. Go proporciona varias construcciones para el control de flujo, entre las que se incluyen if, for, switch, break, continue y goto."
   ]
  },
  {
   "cell_type": "markdown",
   "metadata": {},
   "source": [
    "# Condicionales: if, else if, y else\n",
    "\n",
    "El bloque condicional if permite ejecutar código en función de una condición booleana."
   ]
  },
  {
   "cell_type": "code",
   "execution_count": null,
   "metadata": {
    "vscode": {
     "languageId": "go"
    }
   },
   "outputs": [],
   "source": [
    "if condición {\n",
    "    // Código si la condición es verdadera\n",
    "} else if otraCondición {\n",
    "    // Código si la otraCondición es verdadera\n",
    "} else {\n",
    "    // Código si ninguna condición previa es verdadera\n",
    "}"
   ]
  },
  {
   "cell_type": "code",
   "execution_count": null,
   "metadata": {
    "vscode": {
     "languageId": "go"
    }
   },
   "outputs": [],
   "source": [
    "// Ejemplo\n",
    "\n",
    "func esPar(num int) string {\n",
    "    if num%2 == 0 {\n",
    "        return \"Es un número par\"\n",
    "    } else {\n",
    "        return \"Es un número impar\"\n",
    "    }\n",
    "}"
   ]
  },
  {
   "cell_type": "markdown",
   "metadata": {},
   "source": [
    "# - Declaración con Inicialización\n",
    "\n",
    "Go permite declarar variables locales dentro de la sentencia if. Estas variables solo existen en el contexto del if y else relacionados.\n",
    "\n"
   ]
  },
  {
   "cell_type": "code",
   "execution_count": null,
   "metadata": {
    "vscode": {
     "languageId": "go"
    }
   },
   "outputs": [],
   "source": [
    "if resultado := calcular(); resultado > 0 {\n",
    "    fmt.Println(\"Resultado positivo:\", resultado)\n",
    "} else {\n",
    "    fmt.Println(\"Resultado negativo o cero:\", resultado)\n",
    "}"
   ]
  },
  {
   "cell_type": "markdown",
   "metadata": {},
   "source": [
    "# Bucles: for\n",
    "\n",
    "Go utiliza el bucle for como la única construcción de bucle. Existen tres formas principales de usar for: como bucle tradicional, como bucle condicional y como bucle infinito."
   ]
  },
  {
   "cell_type": "markdown",
   "metadata": {},
   "source": [
    "# - Bucle for Tradicional\n",
    "\n",
    "La forma tradicional de for tiene una cláusula de inicialización, una condición y una cláusula de post-ejecución."
   ]
  },
  {
   "cell_type": "code",
   "execution_count": null,
   "metadata": {
    "vscode": {
     "languageId": "go"
    }
   },
   "outputs": [],
   "source": [
    "for inicialización; condición; post {\n",
    "    // Código a ejecutar en cada iteración\n",
    "}"
   ]
  },
  {
   "cell_type": "code",
   "execution_count": null,
   "metadata": {
    "vscode": {
     "languageId": "go"
    }
   },
   "outputs": [],
   "source": [
    "// Ejemplo\n",
    "\n",
    "for i := 0; i < 5; i++ {\n",
    "    fmt.Println(i)\n",
    "}"
   ]
  },
  {
   "cell_type": "markdown",
   "metadata": {},
   "source": [
    "# - Bucle for Condicional\n",
    "\n",
    "Si solo se define una condición, el bucle se ejecuta mientras la condición sea verdadera."
   ]
  },
  {
   "cell_type": "code",
   "execution_count": null,
   "metadata": {
    "vscode": {
     "languageId": "go"
    }
   },
   "outputs": [],
   "source": [
    "i := 0\n",
    "for i < 5 {\n",
    "    fmt.Println(i)\n",
    "    i++\n",
    "}"
   ]
  },
  {
   "cell_type": "markdown",
   "metadata": {},
   "source": [
    "# - Bucle for Infinito\n",
    "\n",
    "Un for sin condiciones es un bucle infinito, útil para servidores o loops controlados internamente por break."
   ]
  },
  {
   "cell_type": "code",
   "execution_count": null,
   "metadata": {
    "vscode": {
     "languageId": "go"
    }
   },
   "outputs": [],
   "source": [
    "for {\n",
    "    fmt.Println(\"Ejecutando...\")\n",
    "    // break o return para salir del bucle\n",
    "}"
   ]
  },
  {
   "cell_type": "markdown",
   "metadata": {},
   "source": [
    "# Declaraciones de Control: break y continue\n",
    "\n",
    "# - break\n",
    "La sentencia break detiene la ejecución del bucle más cercano."
   ]
  },
  {
   "cell_type": "code",
   "execution_count": null,
   "metadata": {
    "vscode": {
     "languageId": "go"
    }
   },
   "outputs": [],
   "source": [
    "for i := 0; i < 10; i++ {\n",
    "    if i == 5 {\n",
    "        break // Termina el bucle cuando i es igual a 5\n",
    "    }\n",
    "    fmt.Println(i)\n",
    "}"
   ]
  },
  {
   "cell_type": "markdown",
   "metadata": {},
   "source": [
    "# - continue\n",
    "\n",
    "La sentencia continue pasa a la siguiente iteración del bucle, omitiendo el resto del código en la iteración actual."
   ]
  },
  {
   "cell_type": "code",
   "execution_count": null,
   "metadata": {
    "vscode": {
     "languageId": "go"
    }
   },
   "outputs": [],
   "source": [
    "for i := 0; i < 10; i++ {\n",
    "    if i%2 == 0 {\n",
    "        continue // Salta los números pares\n",
    "    }\n",
    "    fmt.Println(i) // Imprime solo números impares\n",
    "}"
   ]
  },
  {
   "cell_type": "markdown",
   "metadata": {},
   "source": [
    "# Multiples Casos: switch\n",
    "\n",
    "Switch es una alternativa a múltiples if-else, que permite ejecutar bloques de código según el valor de una expresión. A diferencia de otros lenguajes, switch en Go no necesita break al final de cada caso.\n",
    "\n",
    "# - Sintaxis"
   ]
  },
  {
   "cell_type": "code",
   "execution_count": null,
   "metadata": {
    "vscode": {
     "languageId": "go"
    }
   },
   "outputs": [],
   "source": [
    "switch expresión {\n",
    "case valor1:\n",
    "    // Código si expresión == valor1\n",
    "case valor2:\n",
    "    // Código si expresión == valor2\n",
    "default:\n",
    "    // Código si ningún caso es verdadero\n",
    "}"
   ]
  },
  {
   "cell_type": "code",
   "execution_count": null,
   "metadata": {
    "vscode": {
     "languageId": "go"
    }
   },
   "outputs": [],
   "source": [
    "// Ejemplo\n",
    "\n",
    "func obtenerDiaSemana(dia int) string {\n",
    "    switch dia {\n",
    "    case 1:\n",
    "        return \"Lunes\"\n",
    "    case 2:\n",
    "        return \"Martes\"\n",
    "    case 3:\n",
    "        return \"Miércoles\"\n",
    "    case 4:\n",
    "        return \"Jueves\"\n",
    "    case 5:\n",
    "        return \"Viernes\"\n",
    "    case 6, 7:\n",
    "        return \"Fin de semana\"\n",
    "    default:\n",
    "        return \"Día no válido\"\n",
    "    }\n",
    "}"
   ]
  },
  {
   "cell_type": "markdown",
   "metadata": {},
   "source": [
    "# switch sin Expresión\n",
    "\n",
    "Un switch sin expresión se utiliza como una secuencia de condiciones if-else y evalúa cada caso como una condición booleana."
   ]
  },
  {
   "cell_type": "code",
   "execution_count": null,
   "metadata": {
    "vscode": {
     "languageId": "go"
    }
   },
   "outputs": [],
   "source": [
    "valor := 20\n",
    "switch {\n",
    "case valor < 10:\n",
    "    fmt.Println(\"Menor que 10\")\n",
    "case valor < 20:\n",
    "    fmt.Println(\"Menor que 20\")\n",
    "default:\n",
    "    fmt.Println(\"20 o mayor\")\n",
    "}"
   ]
  },
  {
   "cell_type": "markdown",
   "metadata": {},
   "source": [
    "# goto: Salto a Etiquetas\n",
    "\n",
    "goto es una sentencia que permite saltar a una etiqueta específica dentro de la función. Su uso es limitado y generalmente se recomienda evitarlo, a menos que sea estrictamente necesario.\n",
    "\n",
    "# - Sintaxis"
   ]
  },
  {
   "cell_type": "code",
   "execution_count": null,
   "metadata": {
    "vscode": {
     "languageId": "go"
    }
   },
   "outputs": [],
   "source": [
    "func ejemploGoto() {\n",
    "    i := 0\n",
    "inicio:\n",
    "    fmt.Println(i)\n",
    "    i++\n",
    "    if i < 5 {\n",
    "        goto inicio // Salta a la etiqueta 'inicio' mientras i < 5\n",
    "    }\n",
    "}"
   ]
  }
 ],
 "metadata": {
  "language_info": {
   "name": "python"
  }
 },
 "nbformat": 4,
 "nbformat_minor": 2
}
