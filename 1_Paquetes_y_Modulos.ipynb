{
 "cells": [
  {
   "cell_type": "markdown",
   "metadata": {},
   "source": [
    "# Paquetes\n",
    "\n",
    "Un paquete en Go es una colección de archivos fuente que se agrupan para proporcionar funcionalidad relacionada. Cada paquete se define en su propio directorio y debe contener un archivo llamado go.mod si se usa el sistema de módulos, o al menos un archivo .go con la declaración de paquete al inicio.\n",
    "\n",
    "# - Declaración de Paquete:\n",
    "Cada archivo en un paquete debe comenzar con la línea package nombre, donde nombre es el nombre del paquete.\n",
    "Importación: Para usar un paquete en otro, se utiliza la instrucción import. Por ejemplo, import \"fmt\" permite usar las funciones del paquete fmt."
   ]
  },
  {
   "cell_type": "code",
   "execution_count": null,
   "metadata": {
    "vscode": {
     "languageId": "go"
    }
   },
   "outputs": [],
   "source": [
    "//Ejemplo de un paquete\n",
    "\n",
    "package main"
   ]
  },
  {
   "cell_type": "markdown",
   "metadata": {},
   "source": [
    "# - Importación: \n",
    "Para usar un paquete en otro, se utiliza la instrucción import."
   ]
  },
  {
   "cell_type": "markdown",
   "metadata": {},
   "source": [
    "Importemos el popular paquete fmt, que contiene funciones para formatear texto, incluida la impresión a la consola. Este paquete es uno de los paquetes de biblioteca estándar que se recibe cuando se instala Go."
   ]
  },
  {
   "cell_type": "code",
   "execution_count": null,
   "metadata": {
    "vscode": {
     "languageId": "go"
    }
   },
   "outputs": [],
   "source": [
    "package main\n",
    "\n",
    "import \"fmt\"\n",
    "\n",
    "func main() {\n",
    "    fmt.Println(\"Hello, World!\")\n",
    "}"
   ]
  },
  {
   "cell_type": "markdown",
   "metadata": {},
   "source": [
    "# Módulos\n",
    "\n",
    "Un módulo es una colección de paquetes que se gestionan como una unidad. Un módulo se define mediante un archivo go.mod, que especifica el nombre del módulo y sus dependencias. Los módulos permiten a los desarrolladores trabajar con versiones específicas de paquetes y manejar dependencias de manera más efectiva."
   ]
  },
  {
   "cell_type": "markdown",
   "metadata": {},
   "source": [
    "# - Creación de un módulo: \n",
    "\n",
    "Se puede crear un módulo utilizando el comando go mod init nombre_del_modulo."
   ]
  },
  {
   "cell_type": "code",
   "execution_count": null,
   "metadata": {
    "vscode": {
     "languageId": "go"
    }
   },
   "outputs": [],
   "source": [
    "go mod init ejemplo.com/miModulo"
   ]
  },
  {
   "cell_type": "markdown",
   "metadata": {},
   "source": [
    "Esto generará un archivo go.mod en el que se declara el módulo y su ruta. La estructura del archivo go.mod es la siguiente:"
   ]
  },
  {
   "cell_type": "code",
   "execution_count": null,
   "metadata": {
    "vscode": {
     "languageId": "go"
    }
   },
   "outputs": [],
   "source": [
    "module ejemplo.com/miModulo\n",
    "\n",
    "go 1.18"
   ]
  },
  {
   "cell_type": "markdown",
   "metadata": {},
   "source": [
    "module ejemplo.com/miModulo: Define la ruta del módulo.\n",
    "\n",
    "go 1.18: Define la versión mínima de Go necesaria para el módulo."
   ]
  },
  {
   "cell_type": "markdown",
   "metadata": {},
   "source": [
    "# - Estructura de un Módulo\n",
    "\n",
    "La estructura de un proyecto con módulos suele ser como sigue:"
   ]
  },
  {
   "cell_type": "code",
   "execution_count": null,
   "metadata": {
    "vscode": {
     "languageId": "go"
    }
   },
   "outputs": [],
   "source": [
    "miModulo/\n",
    "├── go.mod         # Archivo que define el módulo y dependencias\n",
    "├── go.sum         # Archivo que asegura la integridad de las dependencias\n",
    "└── main.go        # Archivo principal del código\n"
   ]
  },
  {
   "cell_type": "markdown",
   "metadata": {},
   "source": [
    "# Administración de Dependencias\n",
    "\n",
    "Go utiliza los módulos para gestionar las dependencias de un proyecto. Al importar un paquete externo en el código, Go actualiza automáticamente el archivo go.mod y descarga las dependencias en un caché local.\n",
    "\n",
    "# - Comando go get\n",
    "Para agregar una dependencia explícitamente, se usa go get seguido de la ruta del paquete. Esto actualiza go.mod con la dependencia."
   ]
  },
  {
   "cell_type": "code",
   "execution_count": null,
   "metadata": {
    "vscode": {
     "languageId": "go"
    }
   },
   "outputs": [],
   "source": [
    "go get ejemplo.com/paqueteExterno"
   ]
  },
  {
   "cell_type": "markdown",
   "metadata": {},
   "source": [
    "Go descarga la dependencia y la añade en el archivo go.mod. Las versiones de las dependencias se listan en go.sum, lo cual asegura la integridad y control de versiones.\n",
    "\n",
    "# - Ejemplo de go.mod con dependencias"
   ]
  },
  {
   "cell_type": "code",
   "execution_count": null,
   "metadata": {
    "vscode": {
     "languageId": "go"
    }
   },
   "outputs": [],
   "source": [
    "module ejemplo.com/miModulo\n",
    "\n",
    "go 1.18\n",
    "\n",
    "require (\n",
    "    github.com/stretchr/testify v1.7.0\n",
    "    golang.org/x/crypto v0.0.0-20210924163140\n",
    ")"
   ]
  },
  {
   "cell_type": "markdown",
   "metadata": {},
   "source": [
    "# Uso de go.mod y go.sum\n",
    "\n",
    "- go.mod: Contiene la configuración básica del módulo, incluyendo la lista de dependencias con sus versiones requeridas.\n",
    "\n",
    "- go.sum: Almacena hashes de las versiones de las dependencias, proporcionando seguridad y evitando la manipulación no deseada de paquetes."
   ]
  },
  {
   "cell_type": "markdown",
   "metadata": {},
   "source": [
    "# Comandos Útiles para Módulos"
   ]
  },
  {
   "cell_type": "markdown",
   "metadata": {},
   "source": [
    "# - go mod tidy\n",
    "\n",
    "El comando go mod tidy limpia las dependencias no utilizadas y asegura que go.mod y go.sum estén actualizados."
   ]
  },
  {
   "cell_type": "code",
   "execution_count": null,
   "metadata": {
    "vscode": {
     "languageId": "go"
    }
   },
   "outputs": [],
   "source": [
    "go mod tidy"
   ]
  },
  {
   "cell_type": "markdown",
   "metadata": {},
   "source": [
    "# - go mod download\n",
    "go mod download descarga todas las dependencias especificadas en go.mod, útil para preparar un entorno de trabajo sin conexión."
   ]
  },
  {
   "cell_type": "code",
   "execution_count": null,
   "metadata": {
    "vscode": {
     "languageId": "go"
    }
   },
   "outputs": [],
   "source": [
    "go mod download"
   ]
  },
  {
   "cell_type": "markdown",
   "metadata": {},
   "source": [
    "# - go mod vendor\n",
    "\n",
    "go mod vendor copia todas las dependencias del módulo en un directorio vendor/, facilitando proyectos que requieren dependencias incluidas localmente."
   ]
  },
  {
   "cell_type": "code",
   "execution_count": null,
   "metadata": {
    "vscode": {
     "languageId": "go"
    }
   },
   "outputs": [],
   "source": [
    "go mod vendor"
   ]
  },
  {
   "cell_type": "markdown",
   "metadata": {},
   "source": [
    "# Publicación de Módulos\n",
    "\n",
    "Para publicar un módulo, solo es necesario subir el proyecto a un repositorio público (por ejemplo, GitHub). Los usuarios pueden luego usar go get para importar el módulo en sus proyectos:"
   ]
  },
  {
   "cell_type": "code",
   "execution_count": null,
   "metadata": {
    "vscode": {
     "languageId": "go"
    }
   },
   "outputs": [],
   "source": [
    "go get ejemplo.com/miModulo"
   ]
  }
 ],
 "metadata": {
  "language_info": {
   "name": "python"
  }
 },
 "nbformat": 4,
 "nbformat_minor": 2
}
