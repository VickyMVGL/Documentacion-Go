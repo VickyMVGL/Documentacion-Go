{
 "cells": [
  {
   "cell_type": "markdown",
   "metadata": {},
   "source": [
    "# Paquetes\n",
    "\n",
    "Un paquete en Go es una colección de archivos fuente que se agrupan para proporcionar funcionalidad relacionada. Cada paquete se define en su propio directorio y debe contener un archivo llamado go.mod si se usa el sistema de módulos, o al menos un archivo .go con la declaración de paquete al inicio.\n",
    "\n",
    "# Declaración de Paquete:\n",
    "Cada archivo en un paquete debe comenzar con la línea package nombre, donde nombre es el nombre del paquete.\n",
    "Importación: Para usar un paquete en otro, se utiliza la instrucción import. Por ejemplo, import \"fmt\" permite usar las funciones del paquete fmt."
   ]
  },
  {
   "cell_type": "code",
   "execution_count": null,
   "metadata": {
    "vscode": {
     "languageId": "go"
    }
   },
   "outputs": [],
   "source": [
    "//Ejemplo de un paquete\n",
    "\n",
    "package main"
   ]
  },
  {
   "cell_type": "markdown",
   "metadata": {},
   "source": [
    "# Importación: \n",
    "Para usar un paquete en otro, se utiliza la instrucción import."
   ]
  },
  {
   "cell_type": "markdown",
   "metadata": {},
   "source": [
    "Importemos el popular paquete fmt, que contiene funciones para formatear texto, incluida la impresión a la consola. Este paquete es uno de los paquetes de biblioteca estándar que se recibe cuando se instala Go."
   ]
  },
  {
   "cell_type": "code",
   "execution_count": null,
   "metadata": {
    "vscode": {
     "languageId": "go"
    }
   },
   "outputs": [],
   "source": [
    "package main\n",
    "\n",
    "import \"fmt\"\n",
    "\n",
    "func main() {\n",
    "    fmt.Println(\"Hello, World!\")\n",
    "}"
   ]
  },
  {
   "cell_type": "markdown",
   "metadata": {},
   "source": [
    "# Módulos\n",
    "\n",
    "Un módulo es una colección de paquetes que se gestionan como una unidad. Un módulo se define mediante un archivo go.mod, que especifica el nombre del módulo y sus dependencias. Los módulos permiten a los desarrolladores trabajar con versiones específicas de paquetes y manejar dependencias de manera más efectiva."
   ]
  },
  {
   "cell_type": "markdown",
   "metadata": {},
   "source": [
    "# Creación de un módulo: \n",
    "Se puede crear un módulo utilizando el comando go mod init nombre_del_modulo. Esto crea un archivo go.mod en el directorio actual."
   ]
  },
  {
   "cell_type": "markdown",
   "metadata": {},
   "source": [
    "# Gestión de dependencias: \n",
    "Puedes añadir o actualizar dependencias utilizando comandos como go get."
   ]
  },
  {
   "cell_type": "markdown",
   "metadata": {},
   "source": [
    "\n",
    "\n",
    "El código Go se agrupa en paquetes y los paquetes se agrupan en módulos. El módulo especifica las dependencias necesarias para ejecutar su código, incluida la versión Go y el conjunto de otros módulos que requiere."
   ]
  }
 ],
 "metadata": {
  "language_info": {
   "name": "python"
  }
 },
 "nbformat": 4,
 "nbformat_minor": 2
}
