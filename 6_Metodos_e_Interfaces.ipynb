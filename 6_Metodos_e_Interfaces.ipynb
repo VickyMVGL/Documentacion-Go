{
 "cells": [
  {
   "cell_type": "markdown",
   "metadata": {},
   "source": [
    "# Métodos\n",
    "\n",
    "En Go, un método es una función con un receptor que le permite estar asociado a un tipo específico, lo que permite agregar funcionalidad y comportamiento a los tipos definidos por el usuario. A diferencia de las funciones normales, los métodos actúan sobre instancias de un tipo específico."
   ]
  },
  {
   "cell_type": "markdown",
   "metadata": {},
   "source": [
    "# - Sintaxis de Métodos\n",
    "La definición de un método se realiza de manera similar a una función, pero especificando un receptor. El receptor se coloca entre la palabra clave func y el nombre del método, y puede ser un tipo estructurado (struct) o cualquier otro tipo definido por el usuario.\n",
    "\n",
    "# - Definición de un Método"
   ]
  },
  {
   "cell_type": "code",
   "execution_count": null,
   "metadata": {
    "vscode": {
     "languageId": "go"
    }
   },
   "outputs": [],
   "source": [
    "func (r Receptor) NombreMetodo(parametros) TipoRetorno {\n",
    "    // Cuerpo del método\n",
    "}"
   ]
  },
  {
   "cell_type": "code",
   "execution_count": null,
   "metadata": {
    "vscode": {
     "languageId": "go"
    }
   },
   "outputs": [],
   "source": [
    "// Ejemplo\n",
    "\n",
    "type Rectangulo struct {\n",
    "    Ancho, Alto float64\n",
    "}\n",
    "\n",
    "func (r Rectangulo) Area() float64 {\n",
    "    return r.Ancho * r.Alto\n",
    "}"
   ]
  },
  {
   "cell_type": "markdown",
   "metadata": {},
   "source": [
    "En este ejemplo, Rectangulo es el tipo al que se asocia el método Area. Cuando Area se llama en una instancia de Rectangulo, utiliza los valores Ancho y Alto del receptor r."
   ]
  },
  {
   "cell_type": "markdown",
   "metadata": {},
   "source": [
    "# - Llamadas a Métodos\n",
    "\n",
    "Los métodos se invocan de la misma manera que las funciones, aunque están asociados a una instancia específica del tipo receptor."
   ]
  },
  {
   "cell_type": "code",
   "execution_count": null,
   "metadata": {
    "vscode": {
     "languageId": "go"
    }
   },
   "outputs": [],
   "source": [
    "// Ejemplo\n",
    "\n",
    "func main() {\n",
    "    r := Rectangulo{Ancho: 5, Alto: 3}\n",
    "\n",
    "    fmt.Println(\"Área:\", r.Area()) // Llama al método `Area`\n",
    "    \n",
    "    r.Escalar(2) // Llama al método `Escalar`\n",
    "    fmt.Println(\"Área después de escalar:\", r.Area())\n",
    "}"
   ]
  },
  {
   "cell_type": "markdown",
   "metadata": {},
   "source": [
    "# Interfaces\n",
    "\n",
    "En Go, una interfaz es un tipo que define un conjunto de métodos. Cualquier tipo que implemente esos métodos es automáticamente compatible con la interfaz, sin necesidad de especificarlo explícitamente. Las interfaces son fundamentales en Go para lograr polimorfismo y permitir un código desacoplado y flexible.\n",
    "\n",
    "# - Sintaxis\n"
   ]
  },
  {
   "cell_type": "code",
   "execution_count": null,
   "metadata": {
    "vscode": {
     "languageId": "go"
    }
   },
   "outputs": [],
   "source": [
    "type NombredelaInterfaz interface {\n",
    "    Metodo1() TipoRetorno\n",
    "    Metodo2(param Tipo) TipoRetorno\n",
    "}"
   ]
  },
  {
   "cell_type": "code",
   "execution_count": null,
   "metadata": {
    "vscode": {
     "languageId": "go"
    }
   },
   "outputs": [],
   "source": [
    "// Ejemplo\n",
    "\n",
    "type Forma interface {\n",
    "    Area() float64\n",
    "    Perimetro() float64\n",
    "}"
   ]
  },
  {
   "cell_type": "markdown",
   "metadata": {},
   "source": [
    "En este ejemplo, cualquier tipo que implemente los métodos Area y Perimetro satisfará la interfaz Forma."
   ]
  },
  {
   "cell_type": "markdown",
   "metadata": {},
   "source": [
    "# - Implementación de una Interfaz\n",
    "\n",
    "Para implementar una interfaz, basta con definir los métodos que la interfaz requiere en un tipo concreto. No es necesario especificar que el tipo implementa la interfaz, lo que permite una implementación implícita."
   ]
  },
  {
   "cell_type": "code",
   "execution_count": null,
   "metadata": {
    "vscode": {
     "languageId": "go"
    }
   },
   "outputs": [],
   "source": [
    "// Ejemplo \n",
    "\n",
    "type Circulo struct {\n",
    "    Radio float64\n",
    "}\n",
    "\n",
    "func (c Circulo) Area() float64 {\n",
    "    return 3.14 * c.Radio * c.Radio\n",
    "}\n",
    "\n",
    "func (c Circulo) Perimetro() float64 {\n",
    "    return 2 * 3.14 * c.Radio\n",
    "}"
   ]
  },
  {
   "cell_type": "markdown",
   "metadata": {},
   "source": [
    "En este caso, el tipo Circulo implementa la interfaz Forma al definir los métodos Area y Perimetro."
   ]
  },
  {
   "cell_type": "markdown",
   "metadata": {},
   "source": [
    "# - Uso de Interfaces\n",
    "\n",
    "Una vez que un tipo implementa una interfaz, puede ser utilizado en cualquier lugar donde se espere esa interfaz. Esto permite que funciones trabajen con diferentes tipos que cumplen el mismo comportamiento."
   ]
  },
  {
   "cell_type": "code",
   "execution_count": null,
   "metadata": {
    "vscode": {
     "languageId": "go"
    }
   },
   "outputs": [],
   "source": [
    "// Ejemplo\n",
    "\n",
    "func imprimirMedidas(f Forma) {\n",
    "    fmt.Println(\"Área:\", f.Area())\n",
    "    fmt.Println(\"Perímetro:\", f.Perimetro())\n",
    "}\n",
    "\n",
    "c := Circulo{Radio: 5}\n",
    "imprimirMedidas(c)"
   ]
  },
  {
   "cell_type": "markdown",
   "metadata": {},
   "source": [
    "Aquí, imprimirMedidas recibe un parámetro de tipo Forma, por lo que puede trabajar con cualquier tipo que implemente la interfaz Forma."
   ]
  }
 ],
 "metadata": {
  "language_info": {
   "name": "python"
  }
 },
 "nbformat": 4,
 "nbformat_minor": 2
}
