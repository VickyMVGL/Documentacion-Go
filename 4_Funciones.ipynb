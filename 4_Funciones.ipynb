{
 "cells": [
  {
   "cell_type": "markdown",
   "metadata": {},
   "source": [
    "# Funciones\n",
    "\n",
    "Las funciones son bloques de código que realizan una tarea específica y pueden devolver valores. Las funciones son una parte fundamental del lenguaje y se definen utilizando la palabra clave func."
   ]
  },
  {
   "cell_type": "markdown",
   "metadata": {},
   "source": [
    "# - Definición de una función\n",
    "Para definir una función, se sigue la siguiente estructura:"
   ]
  },
  {
   "cell_type": "code",
   "execution_count": null,
   "metadata": {
    "vscode": {
     "languageId": "go"
    }
   },
   "outputs": [],
   "source": [
    "func nombreFuncion(param1 tipo1, param2 tipo2) tipoRetorno {\n",
    "    // Cuerpo de la función\n",
    "}"
   ]
  },
  {
   "cell_type": "markdown",
   "metadata": {},
   "source": [
    "nombreFuncion: Nombre de la función, que debe comenzar con una letra y puede contener letras, dígitos y guiones bajos.\n",
    "\n",
    "param1, param2: Parámetros de la función, opcionales y separados por comas.\n",
    "\n",
    "tipo1, tipo2: Tipos de los parámetros.\n",
    "\n",
    "tipoRetorno: Tipo del valor de retorno, opcional."
   ]
  },
  {
   "cell_type": "code",
   "execution_count": null,
   "metadata": {
    "vscode": {
     "languageId": "go"
    }
   },
   "outputs": [],
   "source": [
    "// Ejemplo basico\n",
    "\n",
    "func sumar(a int, b int) int {\n",
    "    return a + b\n",
    "}"
   ]
  },
  {
   "cell_type": "markdown",
   "metadata": {},
   "source": [
    "En este ejemplo, sumar toma dos enteros como parámetros y devuelve su suma."
   ]
  },
  {
   "cell_type": "markdown",
   "metadata": {},
   "source": [
    "# - Llamada a una función\n",
    "\n",
    "Para llamar a una función, simplemente se usa su nombre seguido de paréntesis:"
   ]
  },
  {
   "cell_type": "code",
   "execution_count": null,
   "metadata": {
    "vscode": {
     "languageId": "go"
    }
   },
   "outputs": [],
   "source": [
    "resultado := sumar(3, 5) // resultado será 8"
   ]
  },
  {
   "cell_type": "markdown",
   "metadata": {},
   "source": [
    "# Funciones sin parámetros y sin retorno\n",
    "\n",
    "Una función también puede no recibir parámetros ni devolver un valor:"
   ]
  },
  {
   "cell_type": "code",
   "execution_count": null,
   "metadata": {
    "vscode": {
     "languageId": "go"
    }
   },
   "outputs": [],
   "source": [
    "func saludar() {\n",
    "    fmt.Println(\"¡Hola, Mundo!\")\n",
    "}"
   ]
  },
  {
   "cell_type": "markdown",
   "metadata": {},
   "source": [
    "# Funciones con múltiples valores de retorno\n",
    "\n",
    "Go permite que las funciones devuelvan múltiples valores. Esto es útil en casos donde, por ejemplo, se necesita retornar un resultado y un error:"
   ]
  },
  {
   "cell_type": "code",
   "execution_count": null,
   "metadata": {
    "vscode": {
     "languageId": "go"
    }
   },
   "outputs": [],
   "source": [
    "func dividir(a, b int) (int, error) {\n",
    "    if b == 0 {\n",
    "        return 0, fmt.Errorf(\"división por cero\")\n",
    "    }\n",
    "    return a / b, nil\n",
    "}"
   ]
  },
  {
   "cell_type": "markdown",
   "metadata": {},
   "source": [
    "Para capturar múltiples valores devueltos:"
   ]
  },
  {
   "cell_type": "code",
   "execution_count": null,
   "metadata": {
    "vscode": {
     "languageId": "go"
    }
   },
   "outputs": [],
   "source": [
    "resultado, err := dividir(10, 2)\n",
    "if err != nil {\n",
    "    fmt.Println(\"Error:\", err)\n",
    "} else {\n",
    "    fmt.Println(\"Resultado:\", resultado)\n",
    "}"
   ]
  },
  {
   "cell_type": "markdown",
   "metadata": {},
   "source": [
    "# Funciones con parámetros nombrados\n",
    "\n",
    "Go permite usar nombres para los valores de retorno en la declaración de la función. Esto hace que los nombres sean parte del cuerpo de la función, lo que puede mejorar la claridad."
   ]
  },
  {
   "cell_type": "code",
   "execution_count": null,
   "metadata": {
    "vscode": {
     "languageId": "go"
    }
   },
   "outputs": [],
   "source": [
    "func areaRectangulo(ancho, alto int) (area int) {\n",
    "    area = ancho * alto\n",
    "    return\n",
    "}"
   ]
  },
  {
   "cell_type": "markdown",
   "metadata": {},
   "source": [
    "# Funciones anónimas\n",
    "\n",
    "Go también permite declarar funciones anónimas, que no tienen nombre. Estas funciones pueden ser útiles cuando se necesita una función temporal, como en un goroutine o una operación específica dentro de otra función."
   ]
  },
  {
   "cell_type": "code",
   "execution_count": null,
   "metadata": {
    "vscode": {
     "languageId": "go"
    }
   },
   "outputs": [],
   "source": [
    "func() {\n",
    "    fmt.Println(\"Esta es una función anónima\")\n",
    "}()"
   ]
  },
  {
   "cell_type": "markdown",
   "metadata": {},
   "source": [
    "Para asignarla a una variable y reutilizarla:"
   ]
  },
  {
   "cell_type": "code",
   "execution_count": null,
   "metadata": {
    "vscode": {
     "languageId": "go"
    }
   },
   "outputs": [],
   "source": [
    "miFuncion := func(a, b int) int {\n",
    "    return a + b\n",
    "}\n",
    "\n",
    "resultado := miFuncion(3, 4) // resultado será 7"
   ]
  },
  {
   "cell_type": "markdown",
   "metadata": {},
   "source": [
    "# Funciones como valores y parámetros\n",
    "\n",
    "Las funciones en Go son valores de primera clase, lo que significa que se pueden pasar como argumentos a otras funciones o retornar como valores."
   ]
  },
  {
   "cell_type": "code",
   "execution_count": null,
   "metadata": {
    "vscode": {
     "languageId": "go"
    }
   },
   "outputs": [],
   "source": [
    "func aplicarOperacion(a, b int, operacion func(int, int) int) int {\n",
    "    return operacion(a, b)\n",
    "}\n",
    "\n",
    "func main() {\n",
    "    suma := func(x, y int) int { return x + y }\n",
    "    resultado := aplicarOperacion(5, 3, suma) // resultado será 8\n",
    "}"
   ]
  },
  {
   "cell_type": "markdown",
   "metadata": {},
   "source": [
    "# Closures\n",
    "\n",
    "Un closure es una función que captura variables fuera de su propio alcance. Esto se logra utilizando funciones anónimas dentro de otras funciones."
   ]
  },
  {
   "cell_type": "code",
   "execution_count": null,
   "metadata": {
    "vscode": {
     "languageId": "go"
    }
   },
   "outputs": [],
   "source": [
    "func contador() func() int {\n",
    "    i := 0\n",
    "    return func() int {\n",
    "        i++\n",
    "        return i\n",
    "    }\n",
    "}\n",
    "\n",
    "c := contador()\n",
    "fmt.Println(c()) // Imprime: 1\n",
    "fmt.Println(c()) // Imprime: 2"
   ]
  }
 ],
 "metadata": {
  "language_info": {
   "name": "python"
  }
 },
 "nbformat": 4,
 "nbformat_minor": 2
}
