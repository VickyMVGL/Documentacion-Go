{
 "cells": [
  {
   "cell_type": "markdown",
   "metadata": {},
   "source": [
    "# Variables y Tipos de Datos \n",
    "\n",
    "Go es un lenguaje de programación fuertemente tipado, lo cual significa que cada variable debe tener un tipo de dato específico. Este tipo puede ser determinado en el momento de la declaración, o bien inferido por el compilador. "
   ]
  },
  {
   "cell_type": "markdown",
   "metadata": {},
   "source": [
    "# Declaración de Variables\n",
    "En Go, las variables se pueden declarar usando la palabra clave var, o mediante inferencia de tipo con el operador :=."
   ]
  },
  {
   "cell_type": "code",
   "execution_count": null,
   "metadata": {
    "vscode": {
     "languageId": "go"
    }
   },
   "outputs": [],
   "source": [
    "var nombre string\n",
    "nombre = \"Golang\"\n",
    "\n",
    "// O usando inferencia de tipo\n",
    "edad := 25"
   ]
  },
  {
   "cell_type": "markdown",
   "metadata": {},
   "source": [
    "# Sintaxis\n",
    "\n",
    "Declaración con tipo explícito:"
   ]
  },
  {
   "cell_type": "code",
   "execution_count": null,
   "metadata": {
    "vscode": {
     "languageId": "go"
    }
   },
   "outputs": [],
   "source": [
    "var nombre_variable tipo_dato"
   ]
  },
  {
   "cell_type": "markdown",
   "metadata": {},
   "source": [
    "Declaración múltiple:"
   ]
  },
  {
   "cell_type": "code",
   "execution_count": null,
   "metadata": {
    "vscode": {
     "languageId": "go"
    }
   },
   "outputs": [],
   "source": [
    "var x, y, z int"
   ]
  },
  {
   "cell_type": "markdown",
   "metadata": {},
   "source": [
    "Inicialización con valor e inferencia de tipo:"
   ]
  },
  {
   "cell_type": "code",
   "execution_count": null,
   "metadata": {
    "vscode": {
     "languageId": "go"
    }
   },
   "outputs": [],
   "source": [
    "nombre_variable := valor"
   ]
  },
  {
   "cell_type": "markdown",
   "metadata": {},
   "source": [
    "# Tipos de Datos Básicos\n",
    "\n",
    "# - Enteros\n",
    "int: tamaño de 32 o 64 bits, según la arquitectura del sistema.\n",
    "\n",
    "int8, int16, int32, int64: enteros con signo de 8, 16, 32 y 64 bits, respectivamente.\n",
    "\n",
    "uint, uint8, uint16, uint32, uint64: enteros sin signo."
   ]
  },
  {
   "cell_type": "code",
   "execution_count": null,
   "metadata": {
    "vscode": {
     "languageId": "go"
    }
   },
   "outputs": [],
   "source": [
    "var edad int = 30\n",
    "var numero int32 = 1000\n",
    "var sin_signo uint16 = 500"
   ]
  },
  {
   "cell_type": "markdown",
   "metadata": {},
   "source": [
    "# - Punto Flotante\n",
    "float32: precisión simple (32 bits).\n",
    "\n",
    "float64: precisión doble (64 bits)."
   ]
  },
  {
   "cell_type": "code",
   "execution_count": null,
   "metadata": {
    "vscode": {
     "languageId": "go"
    }
   },
   "outputs": [],
   "source": [
    "var pi float64 = 3.14159\n",
    "var gravedad float32 = 9.8"
   ]
  },
  {
   "cell_type": "markdown",
   "metadata": {},
   "source": [
    "# - Booleano\n",
    "\n",
    "bool: puede ser true o false."
   ]
  },
  {
   "cell_type": "code",
   "execution_count": null,
   "metadata": {
    "vscode": {
     "languageId": "go"
    }
   },
   "outputs": [],
   "source": [
    "var esActivo bool = true"
   ]
  },
  {
   "cell_type": "markdown",
   "metadata": {},
   "source": [
    "# - Cadenas (Strings)\n",
    "string: secuencia de caracteres en formato UTF-8."
   ]
  },
  {
   "cell_type": "code",
   "execution_count": null,
   "metadata": {
    "vscode": {
     "languageId": "go"
    }
   },
   "outputs": [],
   "source": [
    "var saludo string = \"Hola, mundo\""
   ]
  },
  {
   "cell_type": "markdown",
   "metadata": {},
   "source": [
    "# Tipos de Datos Derivados\n",
    "\n",
    "# - Arrays\n",
    "\n",
    "Un array en Go es una colección de elementos de un tipo específico y de longitud fija."
   ]
  },
  {
   "cell_type": "code",
   "execution_count": null,
   "metadata": {
    "vscode": {
     "languageId": "go"
    }
   },
   "outputs": [],
   "source": [
    "var numeros [5]int\n",
    "numeros = [5]int{1, 2, 3, 4, 5}"
   ]
  },
  {
   "cell_type": "markdown",
   "metadata": {},
   "source": [
    "# - Slices\n",
    "\n",
    "Los slices son vistas dinámicas sobre arrays, y son mucho más flexibles. No requieren especificar el tamaño."
   ]
  },
  {
   "cell_type": "code",
   "execution_count": null,
   "metadata": {
    "vscode": {
     "languageId": "go"
    }
   },
   "outputs": [],
   "source": [
    "nombres := []string{\"Alice\", \"Bob\", \"Charlie\"}"
   ]
  },
  {
   "cell_type": "markdown",
   "metadata": {},
   "source": [
    "# - Maps\n",
    "\n",
    "Los maps son colecciones de pares clave-valor."
   ]
  },
  {
   "cell_type": "code",
   "execution_count": null,
   "metadata": {
    "vscode": {
     "languageId": "go"
    }
   },
   "outputs": [],
   "source": [
    "var edades map[string]int\n",
    "edades = map[string]int{\"Alice\": 30, \"Bob\": 25}"
   ]
  },
  {
   "cell_type": "markdown",
   "metadata": {},
   "source": [
    "# - Structs\n",
    "\n",
    "Las structs permiten crear tipos personalizados, agrupando variables de distintos tipos."
   ]
  },
  {
   "cell_type": "code",
   "execution_count": null,
   "metadata": {
    "vscode": {
     "languageId": "go"
    }
   },
   "outputs": [],
   "source": [
    "type Persona struct {\n",
    "    Nombre string\n",
    "    Edad   int\n",
    "}\n",
    "\n",
    "var p Persona\n",
    "p.Nombre = \"Juan\"\n",
    "p.Edad = 30"
   ]
  },
  {
   "cell_type": "markdown",
   "metadata": {},
   "source": [
    "# - Punteros\n",
    "\n",
    "Un puntero almacena la dirección de memoria de una variable. Los punteros en Go se crean usando el operador & para obtener la dirección de una variable, y * para desreferenciar."
   ]
  },
  {
   "cell_type": "code",
   "execution_count": null,
   "metadata": {
    "vscode": {
     "languageId": "go"
    }
   },
   "outputs": [],
   "source": [
    "var x int = 10\n",
    "var ptr *int = &x"
   ]
  },
  {
   "cell_type": "markdown",
   "metadata": {},
   "source": [
    "# - Funciones como Tipos\n",
    "\n",
    "En Go, las funciones son tipos de primera clase, por lo que pueden ser asignadas a variables y pasadas como argumentos."
   ]
  },
  {
   "cell_type": "code",
   "execution_count": null,
   "metadata": {
    "vscode": {
     "languageId": "go"
    }
   },
   "outputs": [],
   "source": [
    "var suma func(int, int) int\n",
    "suma = func(a, b int) int { return a + b }"
   ]
  },
  {
   "cell_type": "markdown",
   "metadata": {},
   "source": [
    "# Conversión de Tipos\n",
    "Go requiere que la conversión de tipos se haga explícitamente."
   ]
  },
  {
   "cell_type": "code",
   "execution_count": null,
   "metadata": {
    "vscode": {
     "languageId": "go"
    }
   },
   "outputs": [],
   "source": [
    "var x int = 42\n",
    "var y float64 = float64(x)"
   ]
  }
 ],
 "metadata": {
  "language_info": {
   "name": "python"
  }
 },
 "nbformat": 4,
 "nbformat_minor": 2
}
